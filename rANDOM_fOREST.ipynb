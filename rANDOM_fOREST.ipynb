{
  "nbformat": 4,
  "nbformat_minor": 0,
  "metadata": {
    "colab": {
      "provenance": []
    },
    "kernelspec": {
      "name": "python3",
      "display_name": "Python 3"
    },
    "language_info": {
      "name": "python"
    }
  },
  "cells": [
    {
      "cell_type": "code",
      "execution_count": 5,
      "metadata": {
        "colab": {
          "base_uri": "https://localhost:8080/",
          "height": 752
        },
        "id": "f0deUPKA7VZd",
        "outputId": "7f00d7ef-0981-47ba-e49a-f1ec5097ba59"
      },
      "outputs": [
        {
          "output_type": "display_data",
          "data": {
            "text/plain": [
              "<IPython.core.display.HTML object>"
            ],
            "text/html": [
              "\n",
              "     <input type=\"file\" id=\"files-711e7630-fdbb-42ba-97d7-b86e7247fa90\" name=\"files[]\" multiple disabled\n",
              "        style=\"border:none\" />\n",
              "     <output id=\"result-711e7630-fdbb-42ba-97d7-b86e7247fa90\">\n",
              "      Upload widget is only available when the cell has been executed in the\n",
              "      current browser session. Please rerun this cell to enable.\n",
              "      </output>\n",
              "      <script>// Copyright 2017 Google LLC\n",
              "//\n",
              "// Licensed under the Apache License, Version 2.0 (the \"License\");\n",
              "// you may not use this file except in compliance with the License.\n",
              "// You may obtain a copy of the License at\n",
              "//\n",
              "//      http://www.apache.org/licenses/LICENSE-2.0\n",
              "//\n",
              "// Unless required by applicable law or agreed to in writing, software\n",
              "// distributed under the License is distributed on an \"AS IS\" BASIS,\n",
              "// WITHOUT WARRANTIES OR CONDITIONS OF ANY KIND, either express or implied.\n",
              "// See the License for the specific language governing permissions and\n",
              "// limitations under the License.\n",
              "\n",
              "/**\n",
              " * @fileoverview Helpers for google.colab Python module.\n",
              " */\n",
              "(function(scope) {\n",
              "function span(text, styleAttributes = {}) {\n",
              "  const element = document.createElement('span');\n",
              "  element.textContent = text;\n",
              "  for (const key of Object.keys(styleAttributes)) {\n",
              "    element.style[key] = styleAttributes[key];\n",
              "  }\n",
              "  return element;\n",
              "}\n",
              "\n",
              "// Max number of bytes which will be uploaded at a time.\n",
              "const MAX_PAYLOAD_SIZE = 100 * 1024;\n",
              "\n",
              "function _uploadFiles(inputId, outputId) {\n",
              "  const steps = uploadFilesStep(inputId, outputId);\n",
              "  const outputElement = document.getElementById(outputId);\n",
              "  // Cache steps on the outputElement to make it available for the next call\n",
              "  // to uploadFilesContinue from Python.\n",
              "  outputElement.steps = steps;\n",
              "\n",
              "  return _uploadFilesContinue(outputId);\n",
              "}\n",
              "\n",
              "// This is roughly an async generator (not supported in the browser yet),\n",
              "// where there are multiple asynchronous steps and the Python side is going\n",
              "// to poll for completion of each step.\n",
              "// This uses a Promise to block the python side on completion of each step,\n",
              "// then passes the result of the previous step as the input to the next step.\n",
              "function _uploadFilesContinue(outputId) {\n",
              "  const outputElement = document.getElementById(outputId);\n",
              "  const steps = outputElement.steps;\n",
              "\n",
              "  const next = steps.next(outputElement.lastPromiseValue);\n",
              "  return Promise.resolve(next.value.promise).then((value) => {\n",
              "    // Cache the last promise value to make it available to the next\n",
              "    // step of the generator.\n",
              "    outputElement.lastPromiseValue = value;\n",
              "    return next.value.response;\n",
              "  });\n",
              "}\n",
              "\n",
              "/**\n",
              " * Generator function which is called between each async step of the upload\n",
              " * process.\n",
              " * @param {string} inputId Element ID of the input file picker element.\n",
              " * @param {string} outputId Element ID of the output display.\n",
              " * @return {!Iterable<!Object>} Iterable of next steps.\n",
              " */\n",
              "function* uploadFilesStep(inputId, outputId) {\n",
              "  const inputElement = document.getElementById(inputId);\n",
              "  inputElement.disabled = false;\n",
              "\n",
              "  const outputElement = document.getElementById(outputId);\n",
              "  outputElement.innerHTML = '';\n",
              "\n",
              "  const pickedPromise = new Promise((resolve) => {\n",
              "    inputElement.addEventListener('change', (e) => {\n",
              "      resolve(e.target.files);\n",
              "    });\n",
              "  });\n",
              "\n",
              "  const cancel = document.createElement('button');\n",
              "  inputElement.parentElement.appendChild(cancel);\n",
              "  cancel.textContent = 'Cancel upload';\n",
              "  const cancelPromise = new Promise((resolve) => {\n",
              "    cancel.onclick = () => {\n",
              "      resolve(null);\n",
              "    };\n",
              "  });\n",
              "\n",
              "  // Wait for the user to pick the files.\n",
              "  const files = yield {\n",
              "    promise: Promise.race([pickedPromise, cancelPromise]),\n",
              "    response: {\n",
              "      action: 'starting',\n",
              "    }\n",
              "  };\n",
              "\n",
              "  cancel.remove();\n",
              "\n",
              "  // Disable the input element since further picks are not allowed.\n",
              "  inputElement.disabled = true;\n",
              "\n",
              "  if (!files) {\n",
              "    return {\n",
              "      response: {\n",
              "        action: 'complete',\n",
              "      }\n",
              "    };\n",
              "  }\n",
              "\n",
              "  for (const file of files) {\n",
              "    const li = document.createElement('li');\n",
              "    li.append(span(file.name, {fontWeight: 'bold'}));\n",
              "    li.append(span(\n",
              "        `(${file.type || 'n/a'}) - ${file.size} bytes, ` +\n",
              "        `last modified: ${\n",
              "            file.lastModifiedDate ? file.lastModifiedDate.toLocaleDateString() :\n",
              "                                    'n/a'} - `));\n",
              "    const percent = span('0% done');\n",
              "    li.appendChild(percent);\n",
              "\n",
              "    outputElement.appendChild(li);\n",
              "\n",
              "    const fileDataPromise = new Promise((resolve) => {\n",
              "      const reader = new FileReader();\n",
              "      reader.onload = (e) => {\n",
              "        resolve(e.target.result);\n",
              "      };\n",
              "      reader.readAsArrayBuffer(file);\n",
              "    });\n",
              "    // Wait for the data to be ready.\n",
              "    let fileData = yield {\n",
              "      promise: fileDataPromise,\n",
              "      response: {\n",
              "        action: 'continue',\n",
              "      }\n",
              "    };\n",
              "\n",
              "    // Use a chunked sending to avoid message size limits. See b/62115660.\n",
              "    let position = 0;\n",
              "    do {\n",
              "      const length = Math.min(fileData.byteLength - position, MAX_PAYLOAD_SIZE);\n",
              "      const chunk = new Uint8Array(fileData, position, length);\n",
              "      position += length;\n",
              "\n",
              "      const base64 = btoa(String.fromCharCode.apply(null, chunk));\n",
              "      yield {\n",
              "        response: {\n",
              "          action: 'append',\n",
              "          file: file.name,\n",
              "          data: base64,\n",
              "        },\n",
              "      };\n",
              "\n",
              "      let percentDone = fileData.byteLength === 0 ?\n",
              "          100 :\n",
              "          Math.round((position / fileData.byteLength) * 100);\n",
              "      percent.textContent = `${percentDone}% done`;\n",
              "\n",
              "    } while (position < fileData.byteLength);\n",
              "  }\n",
              "\n",
              "  // All done.\n",
              "  yield {\n",
              "    response: {\n",
              "      action: 'complete',\n",
              "    }\n",
              "  };\n",
              "}\n",
              "\n",
              "scope.google = scope.google || {};\n",
              "scope.google.colab = scope.google.colab || {};\n",
              "scope.google.colab._files = {\n",
              "  _uploadFiles,\n",
              "  _uploadFilesContinue,\n",
              "};\n",
              "})(self);\n",
              "</script> "
            ]
          },
          "metadata": {}
        },
        {
          "output_type": "stream",
          "name": "stdout",
          "text": [
            "Saving labelled_validation_data.csv to labelled_validation_data.csv\n",
            "Saving labelled_training_data.csv to labelled_training_data.csv\n",
            "Saving labelled_testing_data.csv to labelled_testing_data.csv\n",
            "Saving labelled_2021may-ubuntu.csv to labelled_2021may-ubuntu.csv\n",
            "Saving labelled_2021may-ubuntu-dns.csv to labelled_2021may-ubuntu-dns.csv\n",
            "Saving labelled_2021may-ip-10-100-1-95.csv to labelled_2021may-ip-10-100-1-95.csv\n",
            "Saving labelled_2021may-ip-10-100-1-95-dns.csv to labelled_2021may-ip-10-100-1-95-dns.csv\n",
            "Saving labelled_2021may-ip-10-100-1-4.csv to labelled_2021may-ip-10-100-1-4.csv\n",
            "Saving labelled_2021may-ip-10-100-1-4-dns.csv to labelled_2021may-ip-10-100-1-4-dns.csv\n",
            "Saving labelled_2021may-ip-10-100-1-26.csv to labelled_2021may-ip-10-100-1-26.csv\n",
            "Saving labelled_2021may-ip-10-100-1-26-dns.csv to labelled_2021may-ip-10-100-1-26-dns.csv\n",
            "Saving labelled_2021may-ip-10-100-1-186.csv to labelled_2021may-ip-10-100-1-186.csv\n",
            "Saving labelled_2021may-ip-10-100-1-186-dns.csv to labelled_2021may-ip-10-100-1-186-dns.csv\n",
            "Saving labelled_2021may-ip-10-100-1-105.csv to labelled_2021may-ip-10-100-1-105.csv\n",
            "Saving labelled_2021may-ip-10-100-1-105-dns.csv to labelled_2021may-ip-10-100-1-105-dns.csv\n"
          ]
        }
      ],
      "source": [
        "from google.colab import files\n",
        "uploaded = files.upload()"
      ]
    },
    {
      "cell_type": "code",
      "source": [
        "# Check columns in the dataset\n",
        "print(data_sample.columns)\n"
      ],
      "metadata": {
        "colab": {
          "base_uri": "https://localhost:8080/"
        },
        "id": "3j0RQ7HPQDmJ",
        "outputId": "94206757-2e49-48c6-e424-e6d751e6ffe9"
      },
      "execution_count": 9,
      "outputs": [
        {
          "output_type": "stream",
          "name": "stdout",
          "text": [
            "Index(['processId', 'threadId', 'parentProcessId', 'userId', 'mountNamespace',\n",
            "       'processName', 'hostName', 'eventId', 'eventName', 'argsNum',\n",
            "       'returnValue', 'sus', 'evil'],\n",
            "      dtype='object')\n"
          ]
        }
      ]
    },
    {
      "cell_type": "code",
      "source": [
        "# Use 'sus' as the target variable\n",
        "X = data_sample.drop(\"sus\", axis=1)\n",
        "y = data_sample[\"sus\"]\n"
      ],
      "metadata": {
        "id": "0wiuOgpMV06c"
      },
      "execution_count": 10,
      "outputs": []
    },
    {
      "cell_type": "code",
      "source": [
        "# Use 'evil' as the target variable\n",
        "X = data_sample.drop(\"evil\", axis=1)\n",
        "y = data_sample[\"evil\"]\n"
      ],
      "metadata": {
        "id": "q8AxP-wMYkPi"
      },
      "execution_count": 11,
      "outputs": []
    },
    {
      "cell_type": "code",
      "source": [
        "from sklearn.ensemble import RandomForestClassifier\n",
        "from sklearn.model_selection import train_test_split\n",
        "from sklearn.metrics import accuracy_score, classification_report\n",
        "\n",
        "# Split the data into train and test sets\n",
        "X_train, X_test, y_train, y_test = train_test_split(X, y, test_size=0.25, random_state=42)\n",
        "\n",
        "# Define and fit the Random Forest model\n",
        "rf_model = RandomForestClassifier(n_estimators=100, max_depth=10, random_state=42)\n",
        "rf_model.fit(X_train, y_train)\n",
        "\n",
        "# Make predictions\n",
        "y_pred = rf_model.predict(X_test)\n",
        "\n",
        "# Evaluate the model\n",
        "print(\"Accuracy:\", accuracy_score(y_test, y_pred))\n",
        "print(classification_report(y_test, y_pred))\n"
      ],
      "metadata": {
        "colab": {
          "base_uri": "https://localhost:8080/"
        },
        "id": "u4nDIaJNYmZx",
        "outputId": "3159abb8-bb84-4817-823a-630cbc67e3c5"
      },
      "execution_count": 12,
      "outputs": [
        {
          "output_type": "stream",
          "name": "stdout",
          "text": [
            "Accuracy: 1.0\n",
            "              precision    recall  f1-score   support\n",
            "\n",
            "           0       1.00      1.00      1.00     19079\n",
            "\n",
            "    accuracy                           1.00     19079\n",
            "   macro avg       1.00      1.00      1.00     19079\n",
            "weighted avg       1.00      1.00      1.00     19079\n",
            "\n"
          ]
        }
      ]
    },
    {
      "cell_type": "code",
      "source": [
        "from sklearn.ensemble import RandomForestClassifier\n",
        "from sklearn.model_selection import train_test_split\n",
        "from sklearn.metrics import accuracy_score, classification_report, confusion_matrix\n",
        "import seaborn as sns\n",
        "import matplotlib.pyplot as plt\n",
        "\n",
        "# Define target variable (choose either 'sus' or 'evil')\n",
        "target_column = \"sus\"  # or \"evil\" if needed\n",
        "\n",
        "# Split features and target\n",
        "X = data_sample.drop(target_column, axis=1)\n",
        "y = data_sample[target_column]\n",
        "\n",
        "# Split the data into train and test sets (75% train, 25% test)\n",
        "X_train, X_test, y_train, y_test = train_test_split(X, y, test_size=0.25, random_state=42)\n",
        "\n",
        "# Define and fit the Random Forest model\n",
        "rf_model = RandomForestClassifier(n_estimators=100, max_depth=10, random_state=42)\n",
        "rf_model.fit(X_train, y_train)\n",
        "\n",
        "# Make predictions on test data\n",
        "y_pred = rf_model.predict(X_test)\n",
        "\n",
        "# ✅ 1. Accuracy\n",
        "accuracy = accuracy_score(y_test, y_pred)\n",
        "print(f\"Accuracy: {accuracy:.2f}\")\n",
        "\n",
        "# ✅ 2. Classification Report (Precision, Recall, F1-Score)\n",
        "print(\"\\nClassification Report:\\n\", classification_report(y_test, y_pred))\n",
        "\n",
        "# ✅ 3. Confusion Matrix\n",
        "conf_matrix = confusion_matrix(y_test, y_pred)\n",
        "\n",
        "# Plot Confusion Matrix\n",
        "plt.figure(figsize=(8, 6))\n",
        "sns.heatmap(conf_matrix, annot=True, fmt=\"d\", cmap=\"Blues\", xticklabels=[\"Not Sus\", \"Sus\"], yticklabels=[\"Not Sus\", \"Sus\"])\n",
        "plt.xlabel(\"Predicted\")\n",
        "plt.ylabel(\"Actual\")\n",
        "plt.title(\"Confusion Matrix\")\n",
        "plt.show()\n"
      ],
      "metadata": {
        "colab": {
          "base_uri": "https://localhost:8080/",
          "height": 755
        },
        "id": "UawTKloqZbD_",
        "outputId": "38b1fc5e-ea83-45c5-b4a2-28d36f2f80d8"
      },
      "execution_count": 13,
      "outputs": [
        {
          "output_type": "stream",
          "name": "stdout",
          "text": [
            "Accuracy: 1.00\n",
            "\n",
            "Classification Report:\n",
            "               precision    recall  f1-score   support\n",
            "\n",
            "           0       1.00      1.00      1.00     19051\n",
            "           1       1.00      0.86      0.92        28\n",
            "\n",
            "    accuracy                           1.00     19079\n",
            "   macro avg       1.00      0.93      0.96     19079\n",
            "weighted avg       1.00      1.00      1.00     19079\n",
            "\n"
          ]
        },
        {
          "output_type": "display_data",
          "data": {
            "text/plain": [
              "<Figure size 800x600 with 2 Axes>"
            ],
            "image/png": "[encoded data removed]"
          },
          "metadata": {}
        }
      ]
    },
    {
      "cell_type": "code",
      "source": [
        "# Drop 90% of the least important features\n",
        "num_features_to_drop = int(0.9 * X_train.shape[1])\n",
        "least_important_features = rf_model.feature_importances_.argsort()[:num_features_to_drop]\n",
        "\n",
        "X_train_reduced = X_train.drop(X_train.columns[least_important_features], axis=1)\n",
        "X_test_reduced = X_test.drop(X_test.columns[least_important_features], axis=1)\n",
        "\n",
        "print(f\"Remaining Features: {X_train_reduced.shape[1]} out of {X_train.shape[1]}\")\n"
      ],
      "metadata": {
        "colab": {
          "base_uri": "https://localhost:8080/"
        },
        "id": "GHDx3PFl2I4t",
        "outputId": "c88714cc-50c6-4b3e-e0a8-796beaefbb94"
      },
      "execution_count": 40,
      "outputs": [
        {
          "output_type": "stream",
          "name": "stdout",
          "text": [
            "Remaining Features: 1 out of 9\n"
          ]
        }
      ]
    },
    {
      "cell_type": "code",
      "source": [
        "# Add 50% noise to numerical columns\n",
        "X_train_noisy = X_train_reduced.copy()\n",
        "for col in X_train_noisy.select_dtypes(include=np.number).columns:\n",
        "    X_train_noisy[col] += np.random.normal(0, 0.5 * X_train_noisy[col].std(), X_train_noisy[col].shape)\n",
        "\n",
        "# Also add noise to test data\n",
        "X_test_noisy = X_test_reduced.copy()\n",
        "for col in X_test_noisy.select_dtypes(include=np.number).columns:\n",
        "    X_test_noisy[col] += np.random.normal(0, 0.5 * X_test_noisy[col].std(), X_test_noisy[col].shape)\n",
        "\n",
        "print(\"Added 50% noise to the feature values.\")\n"
      ],
      "metadata": {
        "colab": {
          "base_uri": "https://localhost:8080/"
        },
        "id": "ksUW656x2QUG",
        "outputId": "d4c6fb29-c92f-45fe-e3f6-f71276245860"
      },
      "execution_count": 41,
      "outputs": [
        {
          "output_type": "stream",
          "name": "stdout",
          "text": [
            "Added 50% noise to the feature values.\n"
          ]
        }
      ]
    },
    {
      "cell_type": "code",
      "source": [
        "# Flip 50% of the training labels\n",
        "y_train_flipped = y_train.copy()\n",
        "flip_indices = np.random.choice(y_train.index, size=int(0.5 * len(y_train)), replace=False)\n",
        "y_train_flipped.loc[flip_indices] = 1 - y_train_flipped.loc[flip_indices]\n",
        "\n",
        "print(\"Flipped 50% of the labels.\")\n"
      ],
      "metadata": {
        "colab": {
          "base_uri": "https://localhost:8080/"
        },
        "id": "1YLZjyL72R8U",
        "outputId": "86a30b21-6eca-429b-e7ff-8a41244f664f"
      },
      "execution_count": 42,
      "outputs": [
        {
          "output_type": "stream",
          "name": "stdout",
          "text": [
            "Flipped 50% of the labels.\n"
          ]
        }
      ]
    },
    {
      "cell_type": "code",
      "source": [
        "# Create and train the chaos model\n",
        "rf_model_low_acc_final = RandomForestClassifier(n_estimators=10, max_depth=2, random_state=42)\n",
        "rf_model_low_acc_final.fit(X_train_noisy, y_train_flipped)\n",
        "\n",
        "# Predict and calculate accuracy\n",
        "y_pred_low_acc_final = rf_model_low_acc_final.predict(X_test_noisy)\n",
        "accuracy_low_acc_final = accuracy_score(y_test, y_pred_low_acc_final)\n",
        "print(f\"💀 Final Model Accuracy (Total Destruction): {accuracy_low_acc_final * 100:.2f}%\")\n"
      ],
      "metadata": {
        "colab": {
          "base_uri": "https://localhost:8080/"
        },
        "id": "3_wF_UXz2UDE",
        "outputId": "26f4d1e8-5283-4e0e-e79a-0ceba45c3da7"
      },
      "execution_count": 43,
      "outputs": [
        {
          "output_type": "stream",
          "name": "stdout",
          "text": [
            "💀 Final Model Accuracy (Total Destruction): 84.07%\n"
          ]
        }
      ]
    }
  ]
}